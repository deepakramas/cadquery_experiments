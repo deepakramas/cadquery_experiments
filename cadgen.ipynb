{
 "metadata": {
  "name": "cadgen"
 },
 "nbformat": 3,
 "nbformat_minor": 0,
 "worksheets": [
  {
   "cells": [
    {
     "cell_type": "heading",
     "level": 1,
     "metadata": {},
     "source": "Generating STL files"
    },
    {
     "cell_type": "code",
     "collapsed": false,
     "input": "from cadquery import *",
     "language": "python",
     "metadata": {},
     "outputs": [],
     "prompt_number": 78
    },
    {
     "cell_type": "heading",
     "level": 2,
     "metadata": {},
     "source": "Method for defining points on a circle"
    },
    {
     "cell_type": "code",
     "collapsed": false,
     "input": "import numpy as np\ndef getPointsOnCircle(n,radius):\n    angles = np.linspace(0,2*pi,n,False)\n    x = radius*cos(angles)\n    y = radius*sin(angles)\n    return zip(x,y)",
     "language": "python",
     "metadata": {},
     "outputs": [],
     "prompt_number": 269
    },
    {
     "cell_type": "heading",
     "level": 2,
     "metadata": {},
     "source": "Use CADquery to generate a prismatic circle with holes arranged around center"
    },
    {
     "cell_type": "code",
     "collapsed": false,
     "input": "def createCircleWithHoles(n,filename):\n    pts = getPointsOnCircle(n,1.5)\n    r = Workplane(\"front\").circle(2.0)                       # make base\n    r = r.pushPoints(pts)     # points are on the stack\n    r = r.circle( 0.25 )                                      # circle will operate on all four points\n    result = r.extrude(0.125 )                               # make prism\n    with open(filename,'wb') as f:\n        f.write(exporters.toString(result,'STL'))",
     "language": "python",
     "metadata": {},
     "outputs": [],
     "prompt_number": 267
    },
    {
     "cell_type": "heading",
     "level": 2,
     "metadata": {},
     "source": "Load utility functions for plotting geometry in notebook"
    },
    {
     "cell_type": "code",
     "collapsed": false,
     "input": "%load https://raw.githubusercontent.com/deepakramas/cadquery_experiments/master/vtk_stl_plot.py",
     "language": "python",
     "metadata": {},
     "outputs": [],
     "prompt_number": 134
    },
    {
     "cell_type": "code",
     "collapsed": false,
     "input": "# Using code from http://nbviewer.ipython.org/urls/bitbucket.org/somada141/pyscience/raw/master/20140910_RayCasting/Material/PythonRayCastingSphereVTK.ipynb\n\nimport os\nimport vtk\n\ndef loadSTL(filenameSTL):\n    readerSTL = vtk.vtkSTLReader()\n    readerSTL.SetFileName(filenameSTL)\n    # 'update' the reader i.e. read the .stl file\n    readerSTL.Update()\n\n    polydata = readerSTL.GetOutput()\n\n    # If there are no points in 'vtkPolyData' something went wrong\n    if polydata.GetNumberOfPoints() == 0:\n        raise ValueError(\n            \"No point data could be loaded from '\" + filenameSTL)\n        return None\n    \n    return polydata\n\nfrom IPython.display import Image\ndef vtk_show(renderer, width=400, height=300):\n    \"\"\"\n    Takes vtkRenderer instance and returns an IPython Image with the rendering.\n    \"\"\"\n    renderWindow = vtk.vtkRenderWindow()\n    renderWindow.SetOffScreenRendering(1)\n    renderWindow.AddRenderer(renderer)\n    renderWindow.SetSize(width, height)\n    renderWindow.Render()\n     \n    windowToImageFilter = vtk.vtkWindowToImageFilter()\n    windowToImageFilter.SetInput(renderWindow)\n    windowToImageFilter.Update()\n     \n    writer = vtk.vtkPNGWriter()\n    writer.SetWriteToMemory(1)\n    writer.SetInputConnection(windowToImageFilter.GetOutputPort())\n    writer.Write()\n    data = str(buffer(writer.GetResult()))\n    \n    return Image(data)\n\ndef plot_stl(filename, position=[0,0,1], viewAngle = 30, background = [1,1,1], opacity=0.25,width=400, height=300):\n    \"\"\"\n    Plots stl files via vtk in Ipython\n    \"\"\"\n    myCamera = vtk.vtkCamera()\n    myCamera.SetViewAngle(viewAngle)\n    myCamera.SetPosition(position[0],position[1],position[2])\n    mapper = vtk.vtkPolyDataMapper()\n    mesh = loadSTL(filename)\n    mapper.SetInput(mesh)\n\n    actor = vtk.vtkActor()\n    actor.SetMapper(mapper)\n    actor.GetProperty().SetOpacity(opacity)\n\n    renderer = vtk.vtkRenderer()\n    renderer.AddActor(actor)\n    renderer.SetBackground(background[0], background[1], background[2])\n    renderer.SetActiveCamera(myCamera)\n    return vtk_show(renderer)",
     "language": "python",
     "metadata": {},
     "outputs": [],
     "prompt_number": 135
    },
    {
     "cell_type": "heading",
     "level": 2,
     "metadata": {},
     "source": "4 holes geometry"
    },
    {
     "cell_type": "code",
     "collapsed": false,
     "input": "createCircleWithHoles(4,'box4.STL')\nplot_stl(\"box4.STL\",position=[0,0,3],viewAngle=75,opacity=0.75)",
     "language": "python",
     "metadata": {},
     "outputs": [
      {
       "metadata": {},
       "output_type": "pyout",
       "png": "[encoded data removed]",
       "prompt_number": 271,
       "text": "<IPython.core.display.Image at 0x7f68dd8276d0>"
      }
     ],
     "prompt_number": 271
    },
    {
     "cell_type": "heading",
     "level": 2,
     "metadata": {},
     "source": "5 holes"
    },
    {
     "cell_type": "code",
     "collapsed": false,
     "input": "createCircleWithHoles(5,'box5.STL')\nplot_stl(\"box5.STL\",position=[0,0,3],viewAngle=75,opacity=0.75)",
     "language": "python",
     "metadata": {},
     "outputs": [
      {
       "metadata": {},
       "output_type": "pyout",
       "png": "[encoded data removed]",
       "prompt_number": 272,
       "text": "<IPython.core.display.Image at 0x7f68dd8279d0>"
      }
     ],
     "prompt_number": 272
    },
    {
     "cell_type": "heading",
     "level": 2,
     "metadata": {},
     "source": "6 holes"
    },
    {
     "cell_type": "code",
     "collapsed": false,
     "input": "createCircleWithHoles(6,'box6.STL')\nplot_stl(\"box6.STL\",position=[0,0,3],viewAngle=75,opacity=0.75)",
     "language": "python",
     "metadata": {},
     "outputs": [
      {
       "metadata": {},
       "output_type": "pyout",
       "png": "[encoded data removed]",
       "prompt_number": 273,
       "text": "<IPython.core.display.Image at 0x7f68dd8b1b90>"
      }
     ],
     "prompt_number": 273
    },
    {
     "cell_type": "heading",
     "level": 2,
     "metadata": {},
     "source": "10 holes"
    },
    {
     "cell_type": "code",
     "collapsed": false,
     "input": "createCircleWithHoles(10,'box10.STL')\nplot_stl(\"box10.STL\",position=[0,0,3],viewAngle=75,opacity=0.75)",
     "language": "python",
     "metadata": {},
     "outputs": [
      {
       "metadata": {},
       "output_type": "pyout",
       "png": "[encoded data removed]",
       "prompt_number": 274,
       "text": "<IPython.core.display.Image at 0x7f68dd8b1f50>"
      }
     ],
     "prompt_number": 274
    }
   ],
   "metadata": {}
  }
 ]
}